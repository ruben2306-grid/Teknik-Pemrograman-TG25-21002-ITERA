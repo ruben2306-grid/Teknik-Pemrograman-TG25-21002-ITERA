{
 "cells": [
  {
   "cell_type": "code",
   "execution_count": null,
   "id": "65b84258",
   "metadata": {},
   "outputs": [],
   "source": [
    "# Fungsi dan Modulasi"
   ]
  },
  {
   "cell_type": "code",
   "execution_count": null,
   "id": "76922b81",
   "metadata": {},
   "outputs": [],
   "source": [
    "# Tugas Teknik Pemrograman 2\n",
    "# Vivaldi Ruben. P. S\n",
    "# 123120076"
   ]
  },
  {
   "cell_type": "code",
   "execution_count": 1,
   "id": "5e4b1ecd",
   "metadata": {},
   "outputs": [
    {
     "name": "stdout",
     "output_type": "stream",
     "text": [
      "Halo agus, selamat pagi!\n"
     ]
    }
   ],
   "source": [
    "# Fungsi Tanpa Return\n",
    "def sapa (nama):\n",
    "  print(f\"Halo {nama}, selamat pagi!\")\n",
    "nama = \"agus\"\n",
    "sapa(nama) "
   ]
  },
  {
   "cell_type": "code",
   "execution_count": 2,
   "id": "5824203b",
   "metadata": {},
   "outputs": [
    {
     "data": {
      "text/plain": [
       "16"
      ]
     },
     "execution_count": 2,
     "metadata": {},
     "output_type": "execute_result"
    }
   ],
   "source": [
    "# Fungsi dengan Return\n",
    "def Luas_persegi(sisi):\n",
    "  luas = sisi * sisi\n",
    "  return luas\n",
    "Luas_persegi(4)"
   ]
  },
  {
   "cell_type": "code",
   "execution_count": 3,
   "id": "41acebf8",
   "metadata": {},
   "outputs": [
    {
     "data": {
      "text/plain": [
       "0.00013399999999999998"
      ]
     },
     "execution_count": 3,
     "metadata": {},
     "output_type": "execute_result"
    }
   ],
   "source": [
    "# Fungsi Default (gak diubah dari awal), cnth di G\n",
    "# ctt : Nilai default gak boleh dibagian depan cth: (G=22,m1,m2,r)\n",
    "#kalau mau yang sisanya juga diubah\n",
    "# Fungsi Hukum Newton Universal\n",
    "def gaya_gravitasi(m1, m2, r, G=6.7e-11):\n",
    "  F = G*(m1*m2/r**2)\n",
    "  return F\n",
    "gaya_gravitasi(100,200,0.1)"
   ]
  },
  {
   "cell_type": "code",
   "execution_count": 4,
   "id": "2195c7f9",
   "metadata": {},
   "outputs": [
    {
     "name": "stdout",
     "output_type": "stream",
     "text": [
      "15\n"
     ]
    }
   ],
   "source": [
    "# Fungsi dengan pointer (*)\n",
    "# Selama ada (*) bisa dilakukan perhitungan\n",
    "# kalau jumlah variabelnya gak sama dengan yang didefinisikan\n",
    "def total(*args):\n",
    "  return sum(args)\n",
    "args = total(1,2,3,4,5)\n",
    "print(args)\n"
   ]
  },
  {
   "cell_type": "code",
   "execution_count": 5,
   "id": "b60aac8f",
   "metadata": {},
   "outputs": [
    {
     "data": {
      "text/plain": [
       "20000"
      ]
     },
     "execution_count": 5,
     "metadata": {},
     "output_type": "execute_result"
    }
   ],
   "source": [
    "# Fungsi Challange 1\n",
    "# harga = 120000\n",
    "# harga > 100000 dikasih diskon 20%\n",
    "def harga_diskon(harga, min_harga = 100000, diskon = 0.2):\n",
    "  if harga > min_harga:\n",
    "    potongan_harga = (diskon*harga)/100\n",
    "  else:\n",
    "    potongan_harga = 0\n",
    "  return harga - potongan_harga\n",
    "harga_diskon(20000)\n"
   ]
  },
  {
   "cell_type": "code",
   "execution_count": 6,
   "id": "27545656",
   "metadata": {},
   "outputs": [
    {
     "name": "stdout",
     "output_type": "stream",
     "text": [
      "25\n"
     ]
    }
   ],
   "source": [
    "# fungsi lambda = bisa didefinisikan tanpa nama/variabel\n",
    "# lambda harus satu baris\n",
    "\n",
    "kuadarat_lambda = lambda x: x * x\n",
    "print((kuadarat_lambda(5)))\n"
   ]
  },
  {
   "cell_type": "code",
   "execution_count": null,
   "id": "0bc3028a",
   "metadata": {},
   "outputs": [],
   "source": [
    "# Variasi lambda\n",
    "L_persegi = lambda sisi: sisi * sisi\n",
    "x = int(input(\"masukkan nilai\"))\n",
    "print((L_persegi(x)))"
   ]
  },
  {
   "cell_type": "code",
   "execution_count": null,
   "id": "3d325f6f",
   "metadata": {},
   "outputs": [],
   "source": [
    "# fungsi scope\n",
    "# scope = area suatu fungsi\n",
    "# artinya hanya bisa diambil dalam fungsi def yang dibuat\n",
    "\n",
    "def penjumlahan(x):\n",
    "  x = 1\n",
    "  return x\n",
    "penjumlahan(x)\n",
    "# contoh "
   ]
  },
  {
   "cell_type": "code",
   "execution_count": null,
   "id": "3362ac47",
   "metadata": {},
   "outputs": [],
   "source": [
    "# menggunakan global\n",
    "x = 10\n",
    "def ubah():\n",
    "  global x \n",
    "  x = 30\n",
    "ubah()\n",
    "print(x)"
   ]
  },
  {
   "cell_type": "code",
   "execution_count": null,
   "id": "3e7f6f5e",
   "metadata": {},
   "outputs": [],
   "source": [
    "import matematika as mtk\n",
    "a = 5\n",
    "b = 4\n",
    "x = mtk.penjumlahan(a,b)\n",
    "print(x)"
   ]
  }
 ],
 "metadata": {
  "kernelspec": {
   "display_name": "Python 3",
   "language": "python",
   "name": "python3"
  },
  "language_info": {
   "codemirror_mode": {
    "name": "ipython",
    "version": 3
   },
   "file_extension": ".py",
   "mimetype": "text/x-python",
   "name": "python",
   "nbconvert_exporter": "python",
   "pygments_lexer": "ipython3",
   "version": "3.10.0"
  }
 },
 "nbformat": 4,
 "nbformat_minor": 5
}
